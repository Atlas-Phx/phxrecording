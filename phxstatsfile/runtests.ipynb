{
 "cells": [
  {
   "cell_type": "markdown",
   "metadata": {},
   "source": [
    "# Unit test runner and detailed documentation for phxstatsfile.py\n",
    "\n",
    "This notebook contains unit test runner and some examples about how to use the library. \n",
    "> Feel free to play around, but make sure you do not commit your personal experimental changes to the repo."
   ]
  },
  {
   "cell_type": "markdown",
   "metadata": {},
   "source": [
    "## Environment Setup"
   ]
  },
  {
   "cell_type": "code",
   "execution_count": null,
   "metadata": {},
   "outputs": [],
   "source": [
    "# Env setup block. Please change the 'module_path' to your local path in order to run the code without issue.\n",
    "%load_ext autoreload\n",
    "%autoreload 2\n",
    "import sys, os\n",
    "module_path = \"C:\\\\Users\\\\xwork\\\\Work\\\\Phx\\\\code\\\\statsPython\\\\phxstatsfile\" # absolute path to parent folder of phxstatsfile.py\n",
    "sys.path.insert(0, module_path)\n",
    "module_path"
   ]
  },
  {
   "cell_type": "markdown",
   "metadata": {},
   "source": [
    "## Unit test"
   ]
  },
  {
   "cell_type": "code",
   "execution_count": null,
   "metadata": {},
   "outputs": [],
   "source": [
    "import unittests as tests\n",
    "tests.run_tests()"
   ]
  },
  {
   "cell_type": "markdown",
   "metadata": {},
   "source": [
    "## Function documentation\n",
    "\n",
    "### **getstatsinfo**\n",
    "Function to read essential header information of a stats file\n",
    "\n",
    "- Input: file path to the stats file\n",
    "- Output: Dictinary of information from the header:\n",
    "  - File version: the version of the binary file. Currently only supports version 1. This version is produced by Phoenix receiver backend 2.4.0 or later.\n",
    "  - Duration: The recording duration that this stats file contains and refering to. The unit is miniutes. Phoenix receiver is recording statistics each minute.\n",
    "  - Recording ID: The ID of the recording that this stats file belongs to. \n",
    "\n",
    "Usage Example:"
   ]
  },
  {
   "cell_type": "code",
   "execution_count": null,
   "metadata": {},
   "outputs": [],
   "source": [
    "import phxstatsfile as stats\n",
    "stats.getstatsinfo(os.path.join(module_path,\"stats_example\"))"
   ]
  },
  {
   "cell_type": "markdown",
   "metadata": {},
   "source": [
    "### **tojson**\n",
    "\n",
    "Function converts the stats file to json and return in string\n",
    "\n",
    "- Input: File path, start time (optional), stop time (optional)\n",
    "> Note: the start and stop time are in minutes and is count from the begining of the recording. The first minute is the minute 0.\n",
    "- Output:JSON format data text\n",
    "\n",
    "Usage Example:"
   ]
  },
  {
   "cell_type": "code",
   "execution_count": null,
   "metadata": {},
   "outputs": [],
   "source": [
    "import phxstatsfile as stats\n",
    "stats.tojson(module_path + \"\\\\stats_example\", 0, 1)"
   ]
  },
  {
   "cell_type": "markdown",
   "metadata": {},
   "source": [
    "### **tojsonfile**\n",
    "\n",
    "Function converts the stats file to json file\n",
    "\n",
    "- Input: File path, start time (optional), stop time (optional)\n",
    "> Note: the start and stop time are in minutes and is count from the begining of the recording. The first minute is the minute 0.\n",
    "- Output: Writes the targeting JSON file and returns how many bytes written. If there is error when writing, reuturns error message.\n",
    "\n",
    "Usage Example:"
   ]
  },
  {
   "cell_type": "code",
   "execution_count": null,
   "metadata": {},
   "outputs": [],
   "source": [
    "import phxstatsfile as stats\n",
    "stats.tojsonfile(os.path.join(module_path,\"stats_example\"), os.path.join(module_path,\"exampleJSON.json\"), 0, 1)"
   ]
  },
  {
   "cell_type": "markdown",
   "metadata": {},
   "source": [
    "### **shrinkto**\n",
    "\n",
    "Function shrink the binary stats file to a requested start and stop minutes.\n",
    "\n",
    "- Input: Input file path, output file path, start minute, stop minute\n",
    "- Output: Writes the targeting JSON file and returns how many bytes written. If there is error when writing, reuturns error message.\n",
    "\n",
    "Usage Example:"
   ]
  },
  {
   "cell_type": "code",
   "execution_count": null,
   "metadata": {},
   "outputs": [],
   "source": [
    "import phxstatsfile as stats\n",
    "stats.shrinkto(os.path.join(module_path,\"stats_example\"), os.path.join(module_path,\"stats_shrinked\"), 3, 15)"
   ]
  },
  {
   "cell_type": "markdown",
   "metadata": {},
   "source": [
    "## Note about util functions \"extractinfo\" and \"getstatsdata\"\n",
    "\n",
    "These two function contains the major \"heavy lifting\" logic, but the input/output is not as easy to use as other functions. It is not recomended to use them directly, but in case you need exactly the feature it provides, feel free to use them."
   ]
  }
 ],
 "metadata": {
  "kernelspec": {
   "display_name": "Python 3 (ipykernel)",
   "language": "python",
   "name": "python3"
  },
  "language_info": {
   "codemirror_mode": {
    "name": "ipython",
    "version": 3
   },
   "file_extension": ".py",
   "mimetype": "text/x-python",
   "name": "python",
   "nbconvert_exporter": "python",
   "pygments_lexer": "ipython3",
   "version": "3.12.4"
  }
 },
 "nbformat": 4,
 "nbformat_minor": 2
}
